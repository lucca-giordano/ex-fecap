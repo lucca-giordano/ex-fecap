{
  "nbformat": 4,
  "nbformat_minor": 0,
  "metadata": {
    "colab": {
      "provenance": [],
      "authorship_tag": "ABX9TyNrT48CG3flntZxtYywKbQV"
    },
    "kernelspec": {
      "name": "python3",
      "display_name": "Python 3"
    },
    "language_info": {
      "name": "python"
    }
  },
  "cells": [
    {
      "cell_type": "code",
      "execution_count": 19,
      "metadata": {
        "id": "uqI6KbHop5Oi"
      },
      "outputs": [],
      "source": [
        "import numpy as np\n",
        "import sympy as sp"
      ]
    },
    {
      "cell_type": "markdown",
      "source": [
        "# Ex 1\n",
        "\n"
      ],
      "metadata": {
        "id": "2uf-DAsDsb4E"
      }
    },
    {
      "cell_type": "code",
      "source": [
        "AB = np.array([[-1, 0],\n",
        "               [ 2, 1]])\n",
        "\n",
        "AC = np.array([[2,  1],\n",
        "               [0, -1]])\n",
        "\n",
        "A_B_plus_C = AB + AC\n",
        "print(\"A(B+C) =\\n\", A_B_plus_C)\n",
        "\n",
        "A_BAC = AB.dot(AC)\n",
        "print(\"\\nA(BAC) =\\n\", AC)\n"
      ],
      "metadata": {
        "colab": {
          "base_uri": "https://localhost:8080/"
        },
        "id": "MPzV_C_iqLGF",
        "outputId": "a8f52093-c904-46ca-93c5-147d97e2d238"
      },
      "execution_count": 20,
      "outputs": [
        {
          "output_type": "stream",
          "name": "stdout",
          "text": [
            "A(B+C) =\n",
            " [[1 1]\n",
            " [2 0]]\n",
            "\n",
            "A(BAC) =\n",
            " [[ 2  1]\n",
            " [ 0 -1]]\n"
          ]
        }
      ]
    },
    {
      "cell_type": "markdown",
      "source": [
        "# Ex 2"
      ],
      "metadata": {
        "id": "GWUrh91h4R7l"
      }
    },
    {
      "cell_type": "code",
      "source": [
        "alpha = 1\n",
        "X = np.array([[1, 1],\n",
        "              [alpha, 1]])\n",
        "\n",
        "X_squared = np.dot(X, X)\n",
        "X_2 = 2 * X\n",
        "\n",
        "print(\"X =\\n\", X)\n",
        "print(\"X^2 =\\n\", X_squared)\n",
        "print(\"2X =\\n\", X_2)\n",
        "\n",
        "print(\"X^2 == 2X? \", np.allclose(X_squared, X_2))\n"
      ],
      "metadata": {
        "colab": {
          "base_uri": "https://localhost:8080/"
        },
        "id": "_XUG9lFU4MFG",
        "outputId": "5f033feb-ec06-472e-a0d2-0cf7b6cb3820"
      },
      "execution_count": 21,
      "outputs": [
        {
          "output_type": "stream",
          "name": "stdout",
          "text": [
            "X =\n",
            " [[1 1]\n",
            " [1 1]]\n",
            "X^2 =\n",
            " [[2 2]\n",
            " [2 2]]\n",
            "2X =\n",
            " [[2 2]\n",
            " [2 2]]\n",
            "X^2 == 2X?  True\n"
          ]
        }
      ]
    },
    {
      "cell_type": "markdown",
      "source": [
        "#Ex 3"
      ],
      "metadata": {
        "id": "F85whH7l4Vot"
      }
    },
    {
      "cell_type": "code",
      "source": [
        "# Definindo as incógnitas\n",
        "x, y, z, w = sp.symbols('x y z w', real=True)\n",
        "\n",
        "# Matriz da esquerda: 3 vezes cada variável\n",
        "M_left = sp.Matrix([[3*x, 3*y],\n",
        "                    [3*z, 3*w]])\n",
        "\n",
        "# Soma das duas matrizes do lado direito:\n",
        "# Primeira matriz:\n",
        "M1 = sp.Matrix([[x, 6],\n",
        "                [-1, 2*w]])\n",
        "# Segunda matriz:\n",
        "M2 = sp.Matrix([[4, x+y],\n",
        "                [z+w, 3]])\n",
        "M_right = M1 + M2\n",
        "\n",
        "# Equacionando as matrizes elemento a elemento\n",
        "eqs = [sp.Eq(M_left[i, j], M_right[i, j]) for i in range(2) for j in range(2)]\n",
        "sol = sp.solve(eqs, (x, y, z, w), dict=True)\n",
        "\n",
        "print(\"Solução:\", sol)\n",
        "# Espera-se: x = 2, y = 4, z = 1, w = 3."
      ],
      "metadata": {
        "colab": {
          "base_uri": "https://localhost:8080/"
        },
        "id": "79ACXFUh4XUP",
        "outputId": "5f2d57b9-1656-4544-ac62-dc427663e8ae"
      },
      "execution_count": 22,
      "outputs": [
        {
          "output_type": "stream",
          "name": "stdout",
          "text": [
            "Solução: [{w: 3, x: 2, y: 4, z: 1}]\n"
          ]
        }
      ]
    },
    {
      "cell_type": "markdown",
      "source": [
        "# Ex 4"
      ],
      "metadata": {
        "id": "kKkMEkoD4amV"
      }
    },
    {
      "cell_type": "code",
      "source": [
        "x, y, z = sp.symbols('x y z', real=True)\n",
        "\n",
        "M1 = sp.Matrix([[x, y, z],\n",
        "                [2, -1, 3],\n",
        "                [4,  1, -8]])\n",
        "M2 = sp.Matrix([[3,  2,  1],\n",
        "                [-2, 2, -3],\n",
        "                [-4, -1, 9]])\n",
        "\n",
        "M_sum = M1 + M2\n",
        "I3 = sp.eye(3)\n",
        "\n",
        "eqs = [sp.Eq(M_sum[i, j], I3[i, j]) for i in range(3) for j in range(3)]\n",
        "sol = sp.solve(eqs, (x, y, z), dict=True)\n",
        "\n",
        "print(\"Resolução: (obtendo z = -1):\", sol)"
      ],
      "metadata": {
        "colab": {
          "base_uri": "https://localhost:8080/"
        },
        "id": "GkUuV6Zv4bq9",
        "outputId": "ebde4044-c98b-4d71-d08e-15743b8ab752"
      },
      "execution_count": 28,
      "outputs": [
        {
          "output_type": "stream",
          "name": "stdout",
          "text": [
            "Resolução: (obtendo z = -1): [{x: -2, y: -2, z: -1}]\n"
          ]
        }
      ]
    },
    {
      "cell_type": "markdown",
      "source": [
        "# Ex 5"
      ],
      "metadata": {
        "id": "bb9Bqe9B4hH8"
      }
    },
    {
      "cell_type": "code",
      "source": [
        "M = np.array([[3, 2],\n",
        "              [-1, -4]])\n",
        "\n",
        "A = -M\n",
        "print(\"A =\\n\", A)"
      ],
      "metadata": {
        "colab": {
          "base_uri": "https://localhost:8080/"
        },
        "id": "ukw41wFq4ie9",
        "outputId": "0ddc176b-55aa-4fdd-bd84-43207e58d944"
      },
      "execution_count": 24,
      "outputs": [
        {
          "output_type": "stream",
          "name": "stdout",
          "text": [
            "A =\n",
            " [[-3 -2]\n",
            " [ 1  4]]\n"
          ]
        }
      ]
    },
    {
      "cell_type": "markdown",
      "source": [
        "# Ex 6"
      ],
      "metadata": {
        "id": "aBPTzMl94nUu"
      }
    },
    {
      "cell_type": "code",
      "source": [
        "I2 = np.eye(2)\n",
        "M = np.array([[1, 2],\n",
        "              [1, 3]])\n",
        "\n",
        "X = I2 - M\n",
        "print(\"X =\\n\", X)"
      ],
      "metadata": {
        "colab": {
          "base_uri": "https://localhost:8080/"
        },
        "id": "nApD-lop4nNM",
        "outputId": "96cab661-9dfe-4f6e-dc52-945f16cb4372"
      },
      "execution_count": 25,
      "outputs": [
        {
          "output_type": "stream",
          "name": "stdout",
          "text": [
            "X =\n",
            " [[ 0. -2.]\n",
            " [-1. -2.]]\n"
          ]
        }
      ]
    },
    {
      "cell_type": "markdown",
      "source": [
        "# Ex 7"
      ],
      "metadata": {
        "id": "1o8seqGE42-M"
      }
    },
    {
      "cell_type": "code",
      "source": [
        "a, b = sp.symbols('a b', real=True)\n",
        "\n",
        "eq1 = sp.Eq(1 + a*b, 11)  # (1,1)\n",
        "eq2 = sp.Eq(3*a, 6)       # (1,2)\n",
        "eq3 = sp.Eq(3*b, 15)      # (2,1)\n",
        "sol = sp.solve([eq1, eq2, eq3], (a, b), dict=True)\n",
        "\n",
        "print(\"\\nExercício 7:\")\n",
        "print(\"Solução:\", sol)"
      ],
      "metadata": {
        "colab": {
          "base_uri": "https://localhost:8080/"
        },
        "id": "WmrZE7LV4rrm",
        "outputId": "f16d94c3-9000-45cd-e45d-8922e8aad5b3"
      },
      "execution_count": 26,
      "outputs": [
        {
          "output_type": "stream",
          "name": "stdout",
          "text": [
            "\n",
            "Exercício 7:\n",
            "Solução: [{a: 2, b: 5}]\n"
          ]
        }
      ]
    },
    {
      "cell_type": "markdown",
      "source": [
        "# Ex 8"
      ],
      "metadata": {
        "id": "eAhxRoFB44S8"
      }
    },
    {
      "cell_type": "code",
      "source": [
        "x, y = sp.symbols('x y', real=True)\n",
        "\n",
        "A = sp.Matrix([[1, 0],\n",
        "               [1, 2]])\n",
        "B = sp.Matrix([[7, x],\n",
        "               [y, 0]])\n",
        "\n",
        "AB = A * B\n",
        "BA = B * A\n",
        "\n",
        "eqs = [sp.Eq(AB[i, j], BA[i, j]) for i in range(2) for j in range(2)]\n",
        "sol = sp.solve(eqs, (x, y), dict=True)\n",
        "\n",
        "print(\"Solução:\", sol)"
      ],
      "metadata": {
        "colab": {
          "base_uri": "https://localhost:8080/"
        },
        "id": "jd5Aa03745PN",
        "outputId": "e1e7b449-600b-43b7-fc02-a019ad2047ce"
      },
      "execution_count": 29,
      "outputs": [
        {
          "output_type": "stream",
          "name": "stdout",
          "text": [
            "Solução: [{x: 0, y: -7}]\n"
          ]
        }
      ]
    }
  ]
}