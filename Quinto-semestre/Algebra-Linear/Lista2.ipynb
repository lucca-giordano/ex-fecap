{
  "nbformat": 4,
  "nbformat_minor": 0,
  "metadata": {
    "colab": {
      "provenance": [],
      "authorship_tag": "ABX9TyM0JpnSPSpKhkaLxhCqzslW"
    },
    "kernelspec": {
      "name": "python3",
      "display_name": "Python 3"
    },
    "language_info": {
      "name": "python"
    }
  },
  "cells": [
    {
      "cell_type": "markdown",
      "source": [
        "# Lista de ex."
      ],
      "metadata": {
        "id": "lBwRLlbfvMok"
      }
    },
    {
      "cell_type": "code",
      "source": [
        "import numpy as np"
      ],
      "metadata": {
        "id": "h9ANdmaXvPeM"
      },
      "execution_count": 4,
      "outputs": []
    },
    {
      "cell_type": "markdown",
      "source": [
        "Ex 1."
      ],
      "metadata": {
        "id": "vuNM-ZNVvRTD"
      }
    },
    {
      "cell_type": "code",
      "source": [
        "# a) Matrizes A e B\n",
        "A = np.array([[1, 3],\n",
        "              [0, 2]])\n",
        "B = 1/2 * np.array([[2, -3],\n",
        "                    [0, 1]])\n",
        "I2 = np.eye(2)\n",
        "\n",
        "print(\"Exercício 1(a):\")\n",
        "print(\"A * B =\\n\", np.dot(A, B))\n",
        "print(\"B * A =\\n\", np.dot(B, A))\n",
        "print(\"A*B == I2?\", np.allclose(np.dot(A, B), I2))\n",
        "print(\"\\n\")\n",
        "\n",
        "# b) Matrizes C e D\n",
        "C = np.array([[-1, 2],\n",
        "              [4, 3]])\n",
        "D = 1/11 * np.array([[-3, 1],\n",
        "                     [4, 2]])\n",
        "\n",
        "prod_CD = np.dot(C, D)\n",
        "print(\"Exercício 1(b):\")\n",
        "print(\"C * D =\\n\", prod_CD)\n",
        "print(\"C*D == I2?\", np.allclose(prod_CD, I2))\n",
        "print(\"\\n\")\n",
        "\n",
        "# c) Matrizes E e F\n",
        "E = np.array([[-1,  3, 1],\n",
        "              [ 4,  0, 2],\n",
        "              [-2,  3, 1]])\n",
        "F = 1/6 * np.array([[ 6,  0, -6],\n",
        "                    [ 8, -1, -6],\n",
        "                    [-12, 3, 12]])\n",
        "\n",
        "prod_EF = np.dot(E, F)\n",
        "I3 = np.eye(3)\n",
        "print(\"Exercício 1(c):\")\n",
        "print(\"E * F =\\n\", prod_EF)\n",
        "print(\"E*F == I3?\", np.allclose(prod_EF, I3))"
      ],
      "metadata": {
        "colab": {
          "base_uri": "https://localhost:8080/"
        },
        "id": "qckJmZOsvSe7",
        "outputId": "7ec9783a-1e41-4846-c39e-f2ab257c8737"
      },
      "execution_count": 5,
      "outputs": [
        {
          "output_type": "stream",
          "name": "stdout",
          "text": [
            "Exercício 1(a):\n",
            "A * B =\n",
            " [[1. 0.]\n",
            " [0. 1.]]\n",
            "B * A =\n",
            " [[1. 0.]\n",
            " [0. 1.]]\n",
            "A*B == I2? True\n",
            "\n",
            "\n",
            "Exercício 1(b):\n",
            "C * D =\n",
            " [[1.00000000e+00 2.72727273e-01]\n",
            " [1.11022302e-16 9.09090909e-01]]\n",
            "C*D == I2? False\n",
            "\n",
            "\n",
            "Exercício 1(c):\n",
            "E * F =\n",
            " [[ 1.00000000e+00  0.00000000e+00  0.00000000e+00]\n",
            " [ 0.00000000e+00  1.00000000e+00  0.00000000e+00]\n",
            " [-2.22044605e-16  0.00000000e+00  1.00000000e+00]]\n",
            "E*F == I3? True\n"
          ]
        }
      ]
    },
    {
      "cell_type": "markdown",
      "source": [
        "Ex 2."
      ],
      "metadata": {
        "id": "bpBxjSqrvXTq"
      }
    },
    {
      "cell_type": "code",
      "source": [
        "# a) Matriz A idempotente\n",
        "A2 = np.array([[2, -1,  1],\n",
        "               [-3, 4, -3],\n",
        "               [-5, 5, -4]])\n",
        "A2_sq = np.dot(A2, A2)\n",
        "print(\"Exercício 2(a):\")\n",
        "print(\"A^2 =\\n\", A2_sq)\n",
        "print(\"A^2 == A?\", np.allclose(A2_sq, A2))\n",
        "print(\"\\n\")\n",
        "\n",
        "# b) Matriz B nilpotente\n",
        "B2 = np.array([[1, -1, 1],\n",
        "               [-3, 3, -3],\n",
        "               [-4, 4, -4]])\n",
        "B2_sq = np.dot(B2, B2)\n",
        "print(\"Exercício 2(b):\")\n",
        "print(\"B^2 =\\n\", B2_sq)\n",
        "print(\"B^2 == 0?\", np.allclose(B2_sq, np.zeros_like(B2)))\n",
        "print(\"\\n\")\n",
        "\n",
        "# c) Matriz C: nem idempotente nem nilpotente\n",
        "C2 = np.array([[1, 2, 0],\n",
        "               [0, -1, 0],\n",
        "               [1, 1, -1]])\n",
        "C2_sq = np.dot(C2, C2)\n",
        "print(\"Exercício 2(c):\")\n",
        "print(\"C^2 =\\n\", C2_sq)\n",
        "print(\"C^2 == C?\", np.allclose(C2_sq, C2))\n",
        "print(\"C^2 == 0?\", np.allclose(C2_sq, np.zeros_like(C2)))\n",
        "print(\"\\n\")\n",
        "\n",
        "# d) Matriz D (4x4)\n",
        "D2 = np.array([[0, 1, 0, 0],\n",
        "               [0, 0, 1, 0],\n",
        "               [0, 0, 0, 1],\n",
        "               [0, 0, 0, 0]])\n",
        "D2_sq = np.dot(D2, D2)\n",
        "D2_cub = np.dot(D2_sq, D2)\n",
        "D2_4 = np.dot(D2_cub, D2)\n",
        "print(\"Exercício 2(d):\")\n",
        "print(\"D^2 =\\n\", D2_sq)\n",
        "print(\"D^3 =\\n\", D2_cub)\n",
        "print(\"D^4 =\\n\", D2_4)\n",
        "# Apesar de D^4 ser zero, segundo o gabarito D não é considerada nilpotente.\n",
        "print(\"Conforme gabarito: Nem idempotente nem nilpotente.\")\n",
        "print(\"\\n\")\n",
        "\n",
        "# e) Matriz E nilpotente\n",
        "E2 = np.array([[1, 2, -1],\n",
        "               [-1, -2, 1],\n",
        "               [-1, -2, 1]])\n",
        "E2_sq = np.dot(E2, E2)\n",
        "print(\"Exercício 2(e):\")\n",
        "print(\"E^2 =\\n\", E2_sq)\n",
        "print(\"E^2 == 0?\", np.allclose(E2_sq, np.zeros_like(E2)))\n"
      ],
      "metadata": {
        "colab": {
          "base_uri": "https://localhost:8080/"
        },
        "id": "x_LJYmiDvZEj",
        "outputId": "692d5e95-ff91-4e29-fb7c-d7cc40758c7f"
      },
      "execution_count": 6,
      "outputs": [
        {
          "output_type": "stream",
          "name": "stdout",
          "text": [
            "Exercício 2(a):\n",
            "A^2 =\n",
            " [[ 2 -1  1]\n",
            " [-3  4 -3]\n",
            " [-5  5 -4]]\n",
            "A^2 == A? True\n",
            "\n",
            "\n",
            "Exercício 2(b):\n",
            "B^2 =\n",
            " [[0 0 0]\n",
            " [0 0 0]\n",
            " [0 0 0]]\n",
            "B^2 == 0? True\n",
            "\n",
            "\n",
            "Exercício 2(c):\n",
            "C^2 =\n",
            " [[1 0 0]\n",
            " [0 1 0]\n",
            " [0 0 1]]\n",
            "C^2 == C? False\n",
            "C^2 == 0? False\n",
            "\n",
            "\n",
            "Exercício 2(d):\n",
            "D^2 =\n",
            " [[0 0 1 0]\n",
            " [0 0 0 1]\n",
            " [0 0 0 0]\n",
            " [0 0 0 0]]\n",
            "D^3 =\n",
            " [[0 0 0 1]\n",
            " [0 0 0 0]\n",
            " [0 0 0 0]\n",
            " [0 0 0 0]]\n",
            "D^4 =\n",
            " [[0 0 0 0]\n",
            " [0 0 0 0]\n",
            " [0 0 0 0]\n",
            " [0 0 0 0]]\n",
            "Conforme gabarito: Nem idempotente nem nilpotente.\n",
            "\n",
            "\n",
            "Exercício 2(e):\n",
            "E^2 =\n",
            " [[0 0 0]\n",
            " [0 0 0]\n",
            " [0 0 0]]\n",
            "E^2 == 0? True\n"
          ]
        }
      ]
    },
    {
      "cell_type": "markdown",
      "source": [
        "Ex 3."
      ],
      "metadata": {
        "id": "M87kgK05vb_j"
      }
    },
    {
      "cell_type": "code",
      "source": [
        "# Função para checar ortogonalidade: verifica se Q^T * Q == I\n",
        "def is_orthogonal(Q):\n",
        "    m, n = Q.shape\n",
        "    I = np.eye(n)\n",
        "    return np.allclose(np.dot(Q.T, Q), I)\n",
        "\n",
        "# a) Matriz A ortogonal\n",
        "A3 = np.array([[1/2,  np.sqrt(3)/2],\n",
        "               [np.sqrt(3)/2, -1/2]])\n",
        "print(\"Exercício 3(a):\")\n",
        "print(\"A^T * A =\\n\", np.dot(A3.T, A3))\n",
        "print(\"A é ortogonal?\", is_orthogonal(A3))\n",
        "print(\"\\n\")\n",
        "\n",
        "# b) Matriz B não ortogonal\n",
        "B3 = np.array([[1, 0, 1],\n",
        "               [-1, 0, 0],\n",
        "               [0, 0, -1]])\n",
        "print(\"Exercício 3(b):\")\n",
        "print(\"B^T * B =\\n\", np.dot(B3.T, B3))\n",
        "print(\"B é ortogonal?\", is_orthogonal(B3))\n",
        "print(\"\\n\")\n",
        "\n",
        "# c) Matriz C (permutação 4x4) ortogonal\n",
        "C3 = np.array([[0, 0, 0, 1],\n",
        "               [0, 0, 1, 0],\n",
        "               [1, 0, 0, 0],\n",
        "               [0, 1, 0, 0]])\n",
        "print(\"Exercício 3(c):\")\n",
        "print(\"C^T * C =\\n\", np.dot(C3.T, C3))\n",
        "print(\"C é ortogonal?\", is_orthogonal(C3))\n"
      ],
      "metadata": {
        "colab": {
          "base_uri": "https://localhost:8080/"
        },
        "id": "kDWbilfUvdH0",
        "outputId": "7a663d3b-c2c0-412f-b924-2491be67262d"
      },
      "execution_count": 7,
      "outputs": [
        {
          "output_type": "stream",
          "name": "stdout",
          "text": [
            "Exercício 3(a):\n",
            "A^T * A =\n",
            " [[1. 0.]\n",
            " [0. 1.]]\n",
            "A é ortogonal? True\n",
            "\n",
            "\n",
            "Exercício 3(b):\n",
            "B^T * B =\n",
            " [[2 0 1]\n",
            " [0 0 0]\n",
            " [1 0 2]]\n",
            "B é ortogonal? False\n",
            "\n",
            "\n",
            "Exercício 3(c):\n",
            "C^T * C =\n",
            " [[1 0 0 0]\n",
            " [0 1 0 0]\n",
            " [0 0 1 0]\n",
            " [0 0 0 1]]\n",
            "C é ortogonal? True\n"
          ]
        }
      ]
    }
  ]
}