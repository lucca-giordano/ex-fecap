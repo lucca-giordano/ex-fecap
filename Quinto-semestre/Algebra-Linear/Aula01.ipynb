{
  "nbformat": 4,
  "nbformat_minor": 0,
  "metadata": {
    "colab": {
      "provenance": [],
      "authorship_tag": "ABX9TyMNqDeQkdwVZOwbPMBHUroX"
    },
    "kernelspec": {
      "name": "python3",
      "display_name": "Python 3"
    },
    "language_info": {
      "name": "python"
    }
  },
  "cells": [
    {
      "cell_type": "markdown",
      "source": [
        "# Introdução"
      ],
      "metadata": {
        "id": "rOw0UPAOU2s0"
      }
    },
    {
      "cell_type": "code",
      "execution_count": 1,
      "metadata": {
        "colab": {
          "base_uri": "https://localhost:8080/"
        },
        "id": "Di_e54FQUeR4",
        "outputId": "738d9812-d54c-46cf-c7a3-f211413da9f3"
      },
      "outputs": [
        {
          "output_type": "stream",
          "name": "stdout",
          "text": [
            "Hello world\n",
            "Qual é o seu nome??lucca\n",
            "Seu nome é: lucca\n"
          ]
        }
      ],
      "source": [
        "# imprimir no terminal\n",
        "\n",
        "print(\"Hello world\")\n",
        "\n",
        "# criar variavel e atribuir input\n",
        "\n",
        "nome = input(\"Qual é o seu nome??\")\n",
        "\n",
        "print(f\"Seu nome é: {nome}\")\n"
      ]
    },
    {
      "cell_type": "markdown",
      "source": [
        "# Operadores\n",
        "\n",
        "- `+` -> soma\n",
        "- `-` -> subtração\n",
        "- `/` -> divisão\n",
        "- `*` -> multiplicação\n",
        "- `**` -> potencia\n",
        "- `%` -> modulo"
      ],
      "metadata": {
        "id": "efPysoioVwFe"
      }
    },
    {
      "cell_type": "code",
      "source": [
        "print(\"1 + 1 = \", 1+1)\n",
        "print(\"2 - 1 = \", 2-1)\n",
        "print(\"10 / 2 = \", 10/2)\n",
        "print(\"10 * 2 = \", 10*2)\n",
        "print(\"10^2 = \", 10**2)\n"
      ],
      "metadata": {
        "colab": {
          "base_uri": "https://localhost:8080/"
        },
        "id": "9O-Fc_IjVviu",
        "outputId": "06c9e0cb-2b79-4651-9c63-cbf872ccdae9"
      },
      "execution_count": 3,
      "outputs": [
        {
          "output_type": "stream",
          "name": "stdout",
          "text": [
            "1 + 1 =  2\n",
            "2 - 1 =  1\n",
            "10 / 2 =  5.0\n",
            "10 * 2 =  20\n",
            "10^2 =  100\n"
          ]
        }
      ]
    },
    {
      "cell_type": "markdown",
      "source": [
        "# Importações\n",
        "\n",
        "Importando `numpy` e `math` para operações mais complexas\n",
        "\n",
        "Importando `random` para gerar numeros aleatorios"
      ],
      "metadata": {
        "id": "-ByhoyH9WpZB"
      }
    },
    {
      "cell_type": "code",
      "source": [
        "import numpy\n",
        "import math\n",
        "from random import randint, randrange\n",
        "\n",
        "numpy.sqrt(9) # raiz quadrada de 9\n",
        "math.sqrt(9)\n",
        "\n",
        "math.tanh(45)\n",
        "math.factorial(57)\n",
        "\n",
        "print(randint(10, 20))\n",
        "print(randrange(10, 20))"
      ],
      "metadata": {
        "colab": {
          "base_uri": "https://localhost:8080/"
        },
        "id": "vU0QOjNvW3cP",
        "outputId": "ea27c47d-8dc0-4eaf-d97d-19f2557aaac5"
      },
      "execution_count": 51,
      "outputs": [
        {
          "output_type": "stream",
          "name": "stdout",
          "text": [
            "12\n",
            "17\n"
          ]
        }
      ]
    },
    {
      "cell_type": "markdown",
      "source": [
        "# Condicionais\n",
        "\n",
        "if, elif, else\n",
        "\n",
        "- `==` -> igual\n",
        "- `!=` -> diferente\n",
        "- `>=` -> maior ou igual\n",
        "- `<=` -> menor ou igual\n",
        "- `>` -> maior\n",
        "- `<` -> menor\n"
      ],
      "metadata": {
        "id": "zXzgbo5KZgkc"
      }
    },
    {
      "cell_type": "code",
      "source": [
        "nota = 5\n",
        "\n",
        "if nota == 10:\n",
        "  print(\"Passou com 10, parabéns!\")\n",
        "elif nota >= 6:\n",
        "  print(\"Passou, parabéns!\")\n",
        "else:\n",
        "  print(\"Reprovou!\")"
      ],
      "metadata": {
        "colab": {
          "base_uri": "https://localhost:8080/"
        },
        "id": "lZP47NjKZgTV",
        "outputId": "2d0a5c90-b4d6-4a54-e241-8b9ded788e17"
      },
      "execution_count": 55,
      "outputs": [
        {
          "output_type": "stream",
          "name": "stdout",
          "text": [
            "Reprovou!\n"
          ]
        }
      ]
    }
  ]
}