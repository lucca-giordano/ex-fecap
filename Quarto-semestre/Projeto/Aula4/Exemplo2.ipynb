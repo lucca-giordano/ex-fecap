{
 "cells": [
  {
   "cell_type": "code",
   "execution_count": null,
   "metadata": {},
   "outputs": [],
   "source": [
    "# Lista\n",
    "\n",
    "listaVazia = []\n",
    "impares = [1, 3, 5, 7, 9]\n",
    "pares = [2, 4, 6, 8, 10]\n",
    "\n",
    "print(impares)\n",
    "print(pares)"
   ]
  },
  {
   "cell_type": "code",
   "execution_count": null,
   "metadata": {},
   "outputs": [],
   "source": [
    "def printLista(lista):\n",
    "    for i in lista:\n",
    "        print(i)\n",
    "    \n",
    "    return"
   ]
  },
  {
   "cell_type": "code",
   "execution_count": null,
   "metadata": {},
   "outputs": [],
   "source": [
    "print('Impares: ')\n",
    "printLista(impares)\n",
    "\n",
    "print('Pares: ')\n",
    "printLista(pares)\n",
    "\n",
    "ordem = impares + pares\n",
    "ordem.sort()\n",
    "\n",
    "print(ordem)"
   ]
  }
 ],
 "metadata": {
  "kernelspec": {
   "display_name": "base",
   "language": "python",
   "name": "python3"
  },
  "language_info": {
   "codemirror_mode": {
    "name": "ipython",
    "version": 3
   },
   "file_extension": ".py",
   "mimetype": "text/x-python",
   "name": "python",
   "nbconvert_exporter": "python",
   "pygments_lexer": "ipython3",
   "version": "3.9.12"
  }
 },
 "nbformat": 4,
 "nbformat_minor": 2
}
