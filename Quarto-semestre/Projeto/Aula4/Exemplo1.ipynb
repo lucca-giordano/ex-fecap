{
 "cells": [
  {
   "cell_type": "code",
   "execution_count": null,
   "id": "50107606",
   "metadata": {},
   "outputs": [],
   "source": [
    "# Print, operacoes\n",
    "\n",
    "print('hello world')\n",
    "\n",
    "a=2\n",
    "b=3\n",
    "print(a+b)\n",
    "\n",
    "a=10\n",
    "b=20\n",
    "print(a+b)"
   ]
  },
  {
   "cell_type": "code",
   "execution_count": null,
   "id": "893325c6",
   "metadata": {},
   "outputs": [],
   "source": [
    "# input de dados\n",
    "\n",
    "nome = input('Insira seu nome: ')\n",
    "idade = input('Insira sua idade: ')\n",
    "\n",
    "ano = 2024 - int(idade)\n",
    "\n",
    "print('Olá', nome, 'você tem', idade, 'anos')\n",
    "print('Você nasceu em', ano)"
   ]
  },
  {
   "cell_type": "code",
   "execution_count": null,
   "id": "280f2dad",
   "metadata": {},
   "outputs": [],
   "source": [
    "# if/else\n",
    "\n",
    "ni = float(input(\"Insira sua nota de NI: \"))\n",
    "pi = float(input(\"Insira sua nota de PI: \"))\n",
    "po = float(input(\"Insira sua nota de PO: \"))\n",
    "\n",
    "media = (ni*0.20) + (pi*0.30) + (po*0.50)\n",
    "\n",
    "print('Sua média é:', media)\n",
    "\n",
    "if media >= 6:\n",
    "    print('Aprovado')\n",
    "else:\n",
    "    print('Reprovado')"
   ]
  },
  {
   "cell_type": "code",
   "execution_count": null,
   "id": "80d077a1",
   "metadata": {},
   "outputs": [],
   "source": [
    "# loop for\n",
    "\n",
    "for i in range(1, 11):\n",
    "    print(i)"
   ]
  },
  {
   "cell_type": "code",
   "execution_count": null,
   "id": "c38fada2",
   "metadata": {},
   "outputs": [],
   "source": [
    "# loop while\n",
    "\n",
    "i = 0\n",
    "while i < 10:\n",
    "    i += 1\n",
    "    print(i)"
   ]
  },
  {
   "cell_type": "code",
   "execution_count": null,
   "id": "8ae04da1",
   "metadata": {},
   "outputs": [],
   "source": [
    "# funcoes\n",
    "\n",
    "def soma(a, b):\n",
    "    return a + b\n",
    "\n",
    "print(soma(2, 3))"
   ]
  }
 ],
 "metadata": {
  "kernelspec": {
   "display_name": "Python 3 (ipykernel)",
   "language": "python",
   "name": "python3"
  },
  "language_info": {
   "codemirror_mode": {
    "name": "ipython",
    "version": 3
   },
   "file_extension": ".py",
   "mimetype": "text/x-python",
   "name": "python",
   "nbconvert_exporter": "python",
   "pygments_lexer": "ipython3",
   "version": "3.9.12"
  }
 },
 "nbformat": 4,
 "nbformat_minor": 5
}
