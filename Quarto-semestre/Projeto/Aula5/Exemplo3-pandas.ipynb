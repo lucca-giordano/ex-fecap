{
 "cells": [
  {
   "cell_type": "code",
   "execution_count": null,
   "metadata": {},
   "outputs": [],
   "source": [
    "import pandas as pd\n",
    "import xlrd\n",
    "import openpyxl\n",
    "\n",
    "arq=pd.read_excel('Notas.xlsx')\n",
    "\n",
    "print(arq)\n",
    "print(arq[['Aluno','T1']])\n",
    "print(arq[['Aluno', 'T2']])\n",
    "\n",
    "Trab1=arq[['Aluno','T1']]\n",
    "\n",
    "print(Trab1)\n",
    "print(Trab1[Trab1['T1']>=7])"
   ]
  },
  {
   "cell_type": "code",
   "execution_count": null,
   "metadata": {},
   "outputs": [],
   "source": [
    "import pandas as pd\n",
    "import xlrd\n",
    "import openpyxl\n",
    "\n",
    "def calcMedia(dados):\n",
    "    media=[]\n",
    "\n",
    "    media.append(dados['T1'].mean())\n",
    "    media.append(dados['T2'].mean())\n",
    "    media.append(dados['T3'].mean())\n",
    "    media.append(dados['T4'].mean())\n",
    "    media.append(dados['T5'].mean())\n",
    "    media.append(dados['T6'].mean())\n",
    "\n",
    "    return media\n",
    "\n",
    "arq=pd.read_excel('Notas.xlsx')\n",
    "\n",
    "Medias=calcMedia(arq)\n",
    "\n",
    "print(Medias)\n"
   ]
  },
  {
   "cell_type": "code",
   "execution_count": null,
   "metadata": {},
   "outputs": [],
   "source": [
    "import pandas as pd\n",
    "import xlrd\n",
    "import openpyxl\n",
    "import matplotlib.pyplot as plt\n",
    "\n",
    "def calcMedia(dados):\n",
    "    media=[]\n",
    "    media.append(dados['T1'].mean())\n",
    "    media.append(dados['T2'].mean())\n",
    "    media.append(dados['T3'].mean())\n",
    "    media.append(dados['T4'].mean())\n",
    "    media.append(dados['T5'].mean())\n",
    "    media.append(dados['T6'].mean())\n",
    "    return media\n",
    "\n",
    "arq=pd.read_excel('Notas.xlsx')\n",
    "\n",
    "for i in range(len(arq['T1'])):\n",
    "    print(arq['T1'][i])\n",
    "\n",
    "eixoX=arq['Aluno']\n",
    "eixoY=arq['T1']\n",
    "\n",
    "plt.bar(eixoX,eixoY, color=['b','r'])\n",
    "plt.show()\n",
    "\n",
    "eixoX=['T1','T2','T3','T4','T5','T6']\n",
    "eixoY=calcMedia(arq)\n",
    "plt.bar(eixoX,eixoY, \n",
    "color=['b','r','g','yellow'])\n",
    "plt.show()\n"
   ]
  }
 ],
 "metadata": {
  "kernelspec": {
   "display_name": "Python 3",
   "language": "python",
   "name": "python3"
  },
  "language_info": {
   "codemirror_mode": {
    "name": "ipython",
    "version": 3
   },
   "file_extension": ".py",
   "mimetype": "text/x-python",
   "name": "python",
   "nbconvert_exporter": "python",
   "pygments_lexer": "ipython3",
   "version": "3.10.9"
  }
 },
 "nbformat": 4,
 "nbformat_minor": 2
}
