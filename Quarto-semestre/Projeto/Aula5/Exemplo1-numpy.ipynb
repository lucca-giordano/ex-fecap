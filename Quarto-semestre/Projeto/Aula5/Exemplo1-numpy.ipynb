{
 "cells": [
  {
   "cell_type": "code",
   "execution_count": null,
   "metadata": {},
   "outputs": [],
   "source": [
    "import numpy as np\n",
    "\n",
    "print(\"Criando listas com Numpy\")\n",
    "\n",
    "x=np.array([0,1,2,3,4])\n",
    "\n",
    "print(x)\n",
    "\n",
    "print(\"Percorrendo uma lista Numpy de forma DIRETA\")\n",
    "for n in x:\n",
    "    print(n)\n",
    "\n",
    "print(\"Percorrendo uma lista Numpy de forma INDEXADA\")\n",
    "for i in range(len(x)):\n",
    "    print(x[i])\n",
    "\n",
    "print(\"Converter uma lista Python em uma lista Numpy\")\n",
    "listaPython=[10,15,20,25,30,35,40,45,50]\n",
    "listaNP=np.array(listaPython)\n",
    "\n",
    "for n in listaNP:\n",
    "    print(n)"
   ]
  },
  {
   "cell_type": "code",
   "execution_count": null,
   "metadata": {},
   "outputs": [],
   "source": [
    "import numpy as np\n",
    "\n",
    "print(\"OPERAÇÃO COM MATRIZES\")\n",
    "\n",
    "a = np.array([[1.0, 2.0], [3.0, 4.0]])\n",
    "b = np.array([[5.0, 6.0], [7.0, 8.0]])\n",
    "\n",
    "soma = a + b # Soma\n",
    "diferenca = a - b # Subtração\n",
    "produto = a * b # Multiplicação\n",
    "quociente = a / b # Divisão\n",
    "\n",
    "print(\"*** Soma ***\")\n",
    "print(soma)\n",
    "\n",
    "print(\"*** Diferenca ***\")\n",
    "print(diferenca)\n",
    "\n",
    "print(\"*** Produto ***\")\n",
    "print(produto)\n",
    "\n",
    "print(\"*** Quociente ***\")\n",
    "print(quociente ) \n"
   ]
  },
  {
   "cell_type": "code",
   "execution_count": null,
   "metadata": {},
   "outputs": [],
   "source": [
    "import numpy as np\n",
    "print(\"Resolvendo um Sistema Linear!!\")\n",
    "\n",
    "#Sistema Linear\n",
    "#2x+6y=6\n",
    "#5x+3y=-9\n",
    "#x=? e y=?\n",
    "#Matriz de Coeficientes e Variáveis Dependentes\n",
    "#[2 6 = [6\n",
    "# 5 3] -9]\n",
    "\n",
    "coef=np.array([[2,6],[5,3]])\n",
    "vardeps=np.array([6,-9])\n",
    "\n",
    "print(coef)\n",
    "print(vardeps)\n",
    "\n",
    "solucao=np.linalg.solve(coef,vardeps)\n",
    "print(solucao)\n",
    "\n",
    "print(\"X=\",solucao[0])\n",
    "print(\"Y=\",solucao[1])\n"
   ]
  },
  {
   "cell_type": "code",
   "execution_count": null,
   "metadata": {},
   "outputs": [],
   "source": [
    "import numpy as np\n",
    "print(\"Resolvendo um Sistema Linear de 3 Variáveis com Numpy\")\n",
    "\n",
    "#Sistema Linear X=Euro, Y=Dollar, Z=YEN\n",
    "#2x+5y+2z=18\n",
    "#5x+3y+4z=25\n",
    "#3x+3y+4z=19\n",
    "#x=?, y=? e z=?\n",
    "\n",
    "coef=np.array([[2,5,2],[5,3,4],[3,3,4]])\n",
    "vardeps=np.array([18,25,19])\n",
    "\n",
    "print(coef)\n",
    "print(vardeps)\n",
    "\n",
    "solucao=np.linalg.solve(coef,vardeps)\n",
    "print(solucao)\n",
    "\n",
    "print(\"X=\",round(solucao[0],4))\n",
    "print(\"Y=\",round(solucao[1],4))\n",
    "print(\"Z=\",round(solucao[2],4))\n"
   ]
  }
 ],
 "metadata": {
  "kernelspec": {
   "display_name": "Python 3",
   "language": "python",
   "name": "python3"
  },
  "language_info": {
   "codemirror_mode": {
    "name": "ipython",
    "version": 3
   },
   "file_extension": ".py",
   "mimetype": "text/x-python",
   "name": "python",
   "nbconvert_exporter": "python",
   "pygments_lexer": "ipython3",
   "version": "3.10.9"
  }
 },
 "nbformat": 4,
 "nbformat_minor": 2
}
